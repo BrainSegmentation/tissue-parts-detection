{
 "cells": [
  {
   "cell_type": "code",
   "execution_count": 3,
   "metadata": {},
   "outputs": [],
   "source": [
    "import os\n",
    "import random\n",
    "import string\n",
    "\n",
    "import numpy as np\n",
    "import pandas as pd\n",
    "from matplotlib import pyplot as plt\n",
    "\n",
    "from PIL import Image\n",
    "import cv2 as cv\n",
    "import shutil"
   ]
  },
  {
   "cell_type": "code",
   "execution_count": 196,
   "metadata": {},
   "outputs": [],
   "source": [
    "index = pd.MultiIndex.from_tuples([('point_1', 'x'), ('point_1', 'y'), ('point_2', 'x'), ('point_2', 'y'),\n",
    "                                   ('point_3', 'x'), ('point_3', 'y'), ('point_4', 'x'), ('point_4', 'y')])"
   ]
  },
  {
   "cell_type": "code",
   "execution_count": 51,
   "metadata": {},
   "outputs": [],
   "source": [
    "path = \"../augmented_dataset/stage1_test/\""
   ]
  },
  {
   "cell_type": "code",
   "execution_count": 52,
   "metadata": {
    "scrolled": true
   },
   "outputs": [],
   "source": [
    "top_folder = next(os.walk(path))[1]"
   ]
  },
  {
   "cell_type": "code",
   "execution_count": 53,
   "metadata": {},
   "outputs": [
    {
     "data": {
      "text/plain": [
       "['artif2_0_crop23',\n",
       " 'artif2_0_crop32',\n",
       " 'artif2_10_crop1',\n",
       " 'artif2_10_crop10',\n",
       " 'artif2_11_crop19',\n",
       " 'artif2_11_crop27',\n",
       " 'artif2_12_crop33',\n",
       " 'artif2_12_crop48',\n",
       " 'artif2_14_crop13',\n",
       " 'artif2_14_crop18',\n",
       " 'artif2_15_crop29',\n",
       " 'artif2_15_crop43',\n",
       " 'artif2_16_crop50',\n",
       " 'artif2_16_crop59',\n",
       " 'artif2_18_crop10',\n",
       " 'artif2_18_crop13',\n",
       " 'artif2_19_crop17',\n",
       " 'artif2_19_crop5',\n",
       " 'artif2_2_crop8',\n",
       " 'artif2_2_crop9',\n",
       " 'artif2_3_crop34',\n",
       " 'artif2_3_crop51',\n",
       " 'artif2_5_crop14',\n",
       " 'artif2_5_crop9',\n",
       " 'artif2_6_crop43',\n",
       " 'artif2_6_crop51',\n",
       " 'artif2_8_crop19',\n",
       " 'artif2_8_crop25',\n",
       " 'artif2_8_crop48',\n",
       " 'artif2_8_crop54',\n",
       " 'artif3_6_crop50',\n",
       " 'artif3_7_crop28',\n",
       " 'artif_0_crop11',\n",
       " 'artif_0_crop30',\n",
       " 'artif_0_crop36',\n",
       " 'artif_0_crop8',\n",
       " 'artif_11_crop24',\n",
       " 'artif_11_crop33',\n",
       " 'artif_12_crop45',\n",
       " 'artif_12_crop57',\n",
       " 'artif_14_crop12',\n",
       " 'artif_14_crop26',\n",
       " 'artif_15_crop28',\n",
       " 'artif_15_crop45',\n",
       " 'artif_17_crop25',\n",
       " 'artif_17_crop35',\n",
       " 'artif_18_crop50',\n",
       " 'artif_19_crop1',\n",
       " 'artif_1_crop15',\n",
       " 'artif_1_crop51',\n",
       " 'artif_1_crop58',\n",
       " 'artif_1_crop7',\n",
       " 'artif_2_crop39',\n",
       " 'artif_2_crop44',\n",
       " 'artif_3_crop21',\n",
       " 'artif_3_crop28',\n",
       " 'artif_4_crop13',\n",
       " 'artif_4_crop53',\n",
       " 'artif_4_crop56',\n",
       " 'artif_4_crop7',\n",
       " 'artif_5_crop24',\n",
       " 'artif_5_crop31',\n",
       " 'artif_5_crop60',\n",
       " 'artif_6_crop12',\n",
       " 'artif_6_crop39',\n",
       " 'artif_6_crop47',\n",
       " 'artif_7_crop32',\n",
       " 'artif_7_crop33',\n",
       " 'artif_8_crop16',\n",
       " 'artif_8_crop22',\n",
       " 'artif_9_crop2',\n",
       " 'artif_9_crop49',\n",
       " 'artif_9_crop58',\n",
       " 'artif_9_crop8',\n",
       " 'wafer1_crop16',\n",
       " 'wafer1_crop25',\n",
       " 'wafer1_crop47',\n",
       " 'wafer2_crop15',\n",
       " 'wafer2_crop20',\n",
       " 'wafer2_crop5',\n",
       " 'wafer2_crop57',\n",
       " 'wafer3_crop4',\n",
       " 'wafer3_crop40',\n",
       " 'wafer3_crop45']"
      ]
     },
     "execution_count": 53,
     "metadata": {},
     "output_type": "execute_result"
    }
   ],
   "source": [
    "top_folder"
   ]
  },
  {
   "cell_type": "code",
   "execution_count": 54,
   "metadata": {},
   "outputs": [
    {
     "data": {
      "text/plain": [
       "'artif2_0_crop23'"
      ]
     },
     "execution_count": 54,
     "metadata": {},
     "output_type": "execute_result"
    }
   ],
   "source": [
    "top_folder[0]"
   ]
  },
  {
   "cell_type": "code",
   "execution_count": 41,
   "metadata": {},
   "outputs": [],
   "source": [
    "test = next(os.walk(img_dir))[2][0]"
   ]
  },
  {
   "cell_type": "code",
   "execution_count": 55,
   "metadata": {},
   "outputs": [],
   "source": [
    "for img_folder in top_folder:\n",
    "    img_dir = path + img_folder + \"/\" + \"image/\"\n",
    "    img_name = next(os.walk(img_dir))[2][0]\n",
    "    \n",
    "    path_src = img_dir+img_name\n",
    "    path_dest = img_dir+img_folder+\".tif\"\n",
    "    shutil.move(path_src, path_dest)"
   ]
  },
  {
   "cell_type": "code",
   "execution_count": 64,
   "metadata": {},
   "outputs": [],
   "source": [
    "a = np.ones([4])\n",
    "b = np.ones([5])*2"
   ]
  },
  {
   "cell_type": "code",
   "execution_count": 72,
   "metadata": {},
   "outputs": [
    {
     "data": {
      "text/plain": [
       "array([1., 1., 1., 1.])"
      ]
     },
     "execution_count": 72,
     "metadata": {},
     "output_type": "execute_result"
    }
   ],
   "source": [
    "a"
   ]
  },
  {
   "cell_type": "code",
   "execution_count": 73,
   "metadata": {},
   "outputs": [
    {
     "data": {
      "text/plain": [
       "array([1., 1., 1., 1., 2., 2., 2., 2., 2.])"
      ]
     },
     "execution_count": 73,
     "metadata": {},
     "output_type": "execute_result"
    }
   ],
   "source": [
    "np.concatenate((a,b), axis=-1)"
   ]
  },
  {
   "cell_type": "code",
   "execution_count": 46,
   "metadata": {},
   "outputs": [],
   "source": [
    "path_test = img_dir+test\n",
    "path_dest = img_dir+top_folder[0]+\".tif\""
   ]
  },
  {
   "cell_type": "code",
   "execution_count": 47,
   "metadata": {},
   "outputs": [
    {
     "data": {
      "text/plain": [
       "'../augmented_dataset/stage1_organized/artif2_0_crop1/image/artif2_0_crop1.tif'"
      ]
     },
     "execution_count": 47,
     "metadata": {},
     "output_type": "execute_result"
    }
   ],
   "source": [
    "shutil.move(path_test, path_dest)"
   ]
  },
  {
   "cell_type": "code",
   "execution_count": 30,
   "metadata": {},
   "outputs": [],
   "source": [
    "for i_top in top_folder:\n",
    "    img_dir = path + i_top+\"/\"\n",
    "    t_sub = next(os.walk(img_dir))[1]\n",
    "    for j_sub in t_sub:\n",
    "        dst_path = f\"../augmented_dataset/stage1_organized/{i_top}_{j_sub}\"\n",
    "        shutil.copytree(img_dir+j_sub,dst_path)"
   ]
  },
  {
   "cell_type": "code",
   "execution_count": 31,
   "metadata": {},
   "outputs": [
    {
     "data": {
      "text/plain": [
       "'artif2_0'"
      ]
     },
     "execution_count": 31,
     "metadata": {},
     "output_type": "execute_result"
    }
   ],
   "source": [
    "top_folder[0]"
   ]
  },
  {
   "cell_type": "code",
   "execution_count": null,
   "metadata": {},
   "outputs": [],
   "source": []
  },
  {
   "cell_type": "code",
   "execution_count": 18,
   "metadata": {},
   "outputs": [],
   "source": [
    "img_dir = path + t[0]+\"/\""
   ]
  },
  {
   "cell_type": "code",
   "execution_count": 19,
   "metadata": {},
   "outputs": [
    {
     "data": {
      "text/plain": [
       "'../augmented_dataset/stage1/artif2_0/'"
      ]
     },
     "execution_count": 19,
     "metadata": {},
     "output_type": "execute_result"
    }
   ],
   "source": [
    "img_dir"
   ]
  },
  {
   "cell_type": "code",
   "execution_count": 14,
   "metadata": {},
   "outputs": [],
   "source": [
    "t_sub = next(os.walk(img_dir))[1]"
   ]
  },
  {
   "cell_type": "code",
   "execution_count": 22,
   "metadata": {},
   "outputs": [],
   "source": [
    "dst_path = f\"../augmented_dataset/stage1_organized/{t[0]}_{t_sub[0]}\""
   ]
  },
  {
   "cell_type": "code",
   "execution_count": null,
   "metadata": {},
   "outputs": [],
   "source": []
  },
  {
   "cell_type": "code",
   "execution_count": 23,
   "metadata": {},
   "outputs": [
    {
     "data": {
      "text/plain": [
       "'../augmented_dataset/stage1_organized/artif2_0_crop1'"
      ]
     },
     "execution_count": 23,
     "metadata": {},
     "output_type": "execute_result"
    }
   ],
   "source": [
    "shutil.copytree(img_dir+t_sub[0],dst_path)"
   ]
  },
  {
   "cell_type": "code",
   "execution_count": null,
   "metadata": {},
   "outputs": [],
   "source": []
  },
  {
   "cell_type": "code",
   "execution_count": null,
   "metadata": {},
   "outputs": [],
   "source": []
  },
  {
   "cell_type": "code",
   "execution_count": null,
   "metadata": {},
   "outputs": [],
   "source": []
  },
  {
   "cell_type": "code",
   "execution_count": 197,
   "metadata": {},
   "outputs": [],
   "source": [
    "# Wafer file to crop\n",
    "file = \"../augmented_dataset/artificial_images/artificial_image_0.tiff\"\n",
    "wafer = Image.open(file)\n",
    "seg_tissues = pd.read_csv(\"../augmented_dataset/artificial_images/seg_tissues_artif_0.txt\", sep=\"\\t|,\", header=None, names=index, engine='python')\n",
    "seg_mag = pd.read_csv(\"../augmented_dataset/artificial_images/seg_mag_artif_0.txt\", sep=\"\\t|,\", header=None, names=index, engine='python')\n",
    "\n",
    "# Height and width of the resulting section in pixels\n",
    "section_size = 600\n",
    "\n",
    "# Number of sections that will be generated\n",
    "number_of_sections = 60"
   ]
  },
  {
   "cell_type": "code",
   "execution_count": 198,
   "metadata": {},
   "outputs": [
    {
     "data": {
      "text/html": [
       "<div>\n",
       "<style scoped>\n",
       "    .dataframe tbody tr th:only-of-type {\n",
       "        vertical-align: middle;\n",
       "    }\n",
       "\n",
       "    .dataframe tbody tr th {\n",
       "        vertical-align: top;\n",
       "    }\n",
       "\n",
       "    .dataframe thead tr th {\n",
       "        text-align: left;\n",
       "    }\n",
       "</style>\n",
       "<table border=\"1\" class=\"dataframe\">\n",
       "  <thead>\n",
       "    <tr>\n",
       "      <th></th>\n",
       "      <th colspan=\"2\" halign=\"left\">point_1</th>\n",
       "      <th colspan=\"2\" halign=\"left\">point_2</th>\n",
       "      <th colspan=\"2\" halign=\"left\">point_3</th>\n",
       "      <th colspan=\"2\" halign=\"left\">point_4</th>\n",
       "    </tr>\n",
       "    <tr>\n",
       "      <th></th>\n",
       "      <th>x</th>\n",
       "      <th>y</th>\n",
       "      <th>x</th>\n",
       "      <th>y</th>\n",
       "      <th>x</th>\n",
       "      <th>y</th>\n",
       "      <th>x</th>\n",
       "      <th>y</th>\n",
       "    </tr>\n",
       "  </thead>\n",
       "  <tbody>\n",
       "    <tr>\n",
       "      <th>0</th>\n",
       "      <td>1840</td>\n",
       "      <td>1155</td>\n",
       "      <td>1885</td>\n",
       "      <td>1188</td>\n",
       "      <td>1799</td>\n",
       "      <td>1288</td>\n",
       "      <td>1769</td>\n",
       "      <td>1248</td>\n",
       "    </tr>\n",
       "    <tr>\n",
       "      <th>1</th>\n",
       "      <td>2281</td>\n",
       "      <td>750</td>\n",
       "      <td>2222</td>\n",
       "      <td>745</td>\n",
       "      <td>2241</td>\n",
       "      <td>613</td>\n",
       "      <td>2290</td>\n",
       "      <td>631</td>\n",
       "    </tr>\n",
       "    <tr>\n",
       "      <th>2</th>\n",
       "      <td>2246</td>\n",
       "      <td>2627</td>\n",
       "      <td>2194</td>\n",
       "      <td>2598</td>\n",
       "      <td>2263</td>\n",
       "      <td>2484</td>\n",
       "      <td>2303</td>\n",
       "      <td>2520</td>\n",
       "    </tr>\n",
       "    <tr>\n",
       "      <th>3</th>\n",
       "      <td>1548</td>\n",
       "      <td>2668</td>\n",
       "      <td>1550</td>\n",
       "      <td>2724</td>\n",
       "      <td>1417</td>\n",
       "      <td>2719</td>\n",
       "      <td>1428</td>\n",
       "      <td>2668</td>\n",
       "    </tr>\n",
       "    <tr>\n",
       "      <th>4</th>\n",
       "      <td>935</td>\n",
       "      <td>1054</td>\n",
       "      <td>992</td>\n",
       "      <td>1046</td>\n",
       "      <td>1003</td>\n",
       "      <td>1179</td>\n",
       "      <td>953</td>\n",
       "      <td>1172</td>\n",
       "    </tr>\n",
       "  </tbody>\n",
       "</table>\n",
       "</div>"
      ],
      "text/plain": [
       "  point_1       point_2       point_3       point_4      \n",
       "        x     y       x     y       x     y       x     y\n",
       "0    1840  1155    1885  1188    1799  1288    1769  1248\n",
       "1    2281   750    2222   745    2241   613    2290   631\n",
       "2    2246  2627    2194  2598    2263  2484    2303  2520\n",
       "3    1548  2668    1550  2724    1417  2719    1428  2668\n",
       "4     935  1054     992  1046    1003  1179     953  1172"
      ]
     },
     "execution_count": 198,
     "metadata": {},
     "output_type": "execute_result"
    }
   ],
   "source": [
    "seg_tissues.head()"
   ]
  },
  {
   "cell_type": "code",
   "execution_count": 199,
   "metadata": {},
   "outputs": [
    {
     "data": {
      "text/plain": [
       "(4160, 3110)"
      ]
     },
     "execution_count": 199,
     "metadata": {},
     "output_type": "execute_result"
    }
   ],
   "source": [
    "wafer.size"
   ]
  },
  {
   "cell_type": "code",
   "execution_count": 200,
   "metadata": {},
   "outputs": [
    {
     "data": {
      "text/plain": [
       "'pytvzsdnph58u8iabqhp'"
      ]
     },
     "execution_count": 200,
     "metadata": {},
     "output_type": "execute_result"
    }
   ],
   "source": [
    "''.join(random.choices(string.ascii_lowercase + string.digits, k=20))"
   ]
  },
  {
   "cell_type": "code",
   "execution_count": 190,
   "metadata": {},
   "outputs": [],
   "source": [
    "def generate_mask(image, points):\n",
    "    # size of the image\n",
    "    height = image.size[0]\n",
    "    width = image.size[1]\n",
    "    \n",
    "    # init mask\n",
    "    img_mask = np.zeros([height,width],dtype=np.uint8)\n",
    "    img_mask.fill(0)\n",
    "    \n",
    "    cv.fillConvexPoly(img_mask, points, 255)\n",
    "    \n",
    "    return img_mask"
   ]
  },
  {
   "cell_type": "code",
   "execution_count": null,
   "metadata": {},
   "outputs": [],
   "source": [
    "# Height and width of the resulting section in pixels\n",
    "section_size = 600\n",
    "\n",
    "# Number of sections that will be generated\n",
    "number_of_sections = 60"
   ]
  },
  {
   "cell_type": "code",
   "execution_count": 217,
   "metadata": {},
   "outputs": [],
   "source": [
    "\n",
    "for index_img_artif in range(20):\n",
    "    \n",
    "    index = pd.MultiIndex.from_tuples([('point_1', 'x'), ('point_1', 'y'), ('point_2', 'x'), ('point_2', 'y'),\n",
    "                                   ('point_3', 'x'), ('point_3', 'y'), ('point_4', 'x'), ('point_4', 'y')])\n",
    "    \n",
    "    # Wafer file to crop\n",
    "    file = f\"../augmented_dataset/artificial_images/artificial_image_{index_img_artif}.tiff\"\n",
    "    wafer = Image.open(file)\n",
    "    seg_tissues = pd.read_csv(f\"../augmented_dataset/artificial_images/seg_tissues_artif_{index_img_artif}.txt\", sep=\"\\t|,\", header=None, names=index, engine='python')\n",
    "    seg_mag = pd.read_csv(f\"../augmented_dataset/artificial_images/seg_mag_artif_{index_img_artif}.txt\", sep=\"\\t|,\", header=None, names=index, engine='python')\n",
    "\n",
    "    \n",
    "    \n",
    "    \n",
    "    for i in range(1,number_of_sections+1):\n",
    "\n",
    "        stop = 0\n",
    "        \n",
    "        # random crop coordinates (top-left point of the cropped area)\n",
    "        start_x = random.randint(0, wafer.size[0] - section_size)\n",
    "        start_y = random.randint(0, wafer.size[1] - section_size)\n",
    "\n",
    "\n",
    "        # cropping the wafer image\n",
    "        cropped_image = wafer.crop((start_x,start_y,start_x+section_size,start_y+section_size))\n",
    "        #plt.imshow(cropped_image)\n",
    "        #plt.title(\"Cropped section\"+str(i)+\" :\")\n",
    "        #plt.show()  \n",
    "\n",
    "\n",
    "        # index of all tissue part within the cropped area\n",
    "        tissue_indicies = list()\n",
    "        for index, row in seg_tissues.iterrows(): # iterating over sections\n",
    "            points_within = 0\n",
    "            for j in range(0,8,2): # iterating over the 4 points for each section\n",
    "                if (start_x <= row[j] <= start_x+section_size) & (start_y <= row[j+1] <= start_y+section_size):\n",
    "                    points_within += 1\n",
    "            if(points_within >= 2):\n",
    "                tissue_indicies.append(index)\n",
    "\n",
    "        # index of all magnetic part within the cropped area\n",
    "        mag_indicies = list()\n",
    "        for index, row in seg_mag.iterrows(): # iterating over sections\n",
    "            points_within = 0\n",
    "            for j in range(0,8,2): # iterating over the 4 points for each section\n",
    "                if (start_x <= row[j] <= start_x+section_size) & (start_y <= row[j+1] <= start_y+section_size):\n",
    "                    points_within += 1\n",
    "            if(points_within >= 2):\n",
    "                mag_indicies.append(index)\n",
    "\n",
    "        # keeping only sections indices if both part are within the cropped area\n",
    "        section_indices = list( set(tissue_indicies) or set(mag_indicies) )\n",
    "        #print (section_indices)\n",
    "\n",
    "        if(len(section_indices) >=4):\n",
    "            \n",
    "            # creating directories to store results\n",
    "            image_folder = f\"../augmented_dataset/stage1/artif_{index_img_artif}/crop\"+str(i)+\"/image/\" \n",
    "            os.makedirs(os.path.dirname(image_folder), exist_ok=True)\n",
    "            tissue_masks_folder = f\"../augmented_dataset/stage1/artif_{index_img_artif}/crop\"+str(i)+\"/tissue_masks/\" \n",
    "            os.makedirs(os.path.dirname(tissue_masks_folder), exist_ok=True)\n",
    "            magnetic_masks_folder = f\"../augmented_dataset/stage1/artif_{index_img_artif}/crop\"+str(i)+\"/magnetic_masks/\" \n",
    "            os.makedirs(os.path.dirname(magnetic_masks_folder), exist_ok=True)\n",
    "\n",
    "            # creating tissue part mask\n",
    "            ind_img = 0\n",
    "            for section_index in section_indices:\n",
    "                vertices = np.array(seg_tissues.loc[[section_index]]).reshape((4, 2))\n",
    "                #print(vertices)\n",
    "\n",
    "                mask = generate_mask(wafer,vertices)\n",
    "\n",
    "                _mask = Image.fromarray(np.uint8(mask))\n",
    "                _mask = _mask.crop((start_x,start_y,start_x+section_size,start_y+section_size))\n",
    "                #plt.imshow(_mask)\n",
    "                #plt.title(\"Tissue mask \"+str(section_index)+\" :\")\n",
    "                #plt.show()  \n",
    "                cv.waitKey(1)\n",
    "                if(np.mean(mask) == 0):\n",
    "                    shutil.rmtree(f\"../augmented_dataset/stage1/artif_{index_img_artif}/crop\"+str(i))\n",
    "                    stop=1\n",
    "                    break\n",
    "\n",
    "                # saving the cropped mask\n",
    "                _mask.save(tissue_masks_folder+str(section_index)+\".tif\")\n",
    "                ind_img = ind_img +1\n",
    "                \n",
    "\n",
    "            # creating magnetic part mask\n",
    "            ind_img = 0\n",
    "            if(stop == 0):\n",
    "                for section_index in section_indices:\n",
    "                    vertices = np.array(seg_mag.loc[[section_index]], 'int32').reshape((4, 2))\n",
    "                    #print(vertices)\n",
    "\n",
    "                    mask = generate_mask(wafer,vertices)\n",
    "                    _mask = Image.fromarray(np.uint8(mask))\n",
    "                    _mask = _mask.crop((start_x,start_y,start_x+section_size,start_y+section_size))\n",
    "\n",
    "                    #plt.imshow(_mask)\n",
    "                    #plt.title(\"Magnetic mask \"+str(section_index)+\" :\")\n",
    "                    #plt.show()\n",
    "                    cv.waitKey(1)\n",
    "                    if(np.mean(mask) == 0):\n",
    "                        shutil.rmtree(f\"../augmented_dataset/stage1/artif_{index_img_artif}/crop\"+str(i))\n",
    "                        stop = 1\n",
    "                        break\n",
    "\n",
    "                    # saving the cropped mask\n",
    "                    _mask.save(magnetic_masks_folder+str(section_index)+\".tif\")\n",
    "                    ind_img = ind_img +1\n",
    "\n",
    "                # saving the cropped image\n",
    "                if(stop==0):\n",
    "                    cropped_image.save(image_folder+str(i)+\".tif\")\n",
    "    "
   ]
  },
  {
   "cell_type": "code",
   "execution_count": 220,
   "metadata": {},
   "outputs": [],
   "source": [
    "for index_img_artif in range(20):\n",
    "    \n",
    "    index = pd.MultiIndex.from_tuples([('point_1', 'x'), ('point_1', 'y'), ('point_2', 'x'), ('point_2', 'y'),\n",
    "                                   ('point_3', 'x'), ('point_3', 'y'), ('point_4', 'x'), ('point_4', 'y')])\n",
    "    \n",
    "    # Wafer file to crop\n",
    "    file = f\"../augmented_dataset/artificial_images/artificial_image2_{index_img_artif}.tif\"\n",
    "    wafer = Image.open(file)\n",
    "    seg_tissues = pd.read_csv(f\"../augmented_dataset/artificial_images/seg_tissues_artif2_{index_img_artif}.txt\", sep=\"\\t|,\", header=None, names=index, engine='python')\n",
    "    seg_mag = pd.read_csv(f\"../augmented_dataset/artificial_images/seg_mag_artif2_{index_img_artif}.txt\", sep=\"\\t|,\", header=None, names=index, engine='python')\n",
    "\n",
    "    \n",
    "    \n",
    "    \n",
    "    for i in range(1,number_of_sections+1):\n",
    "\n",
    "        # random crop coordinates (top-left point of the cropped area)\n",
    "        start_x = random.randint(0, wafer.size[0] - section_size)\n",
    "        start_y = random.randint(0, wafer.size[1] - section_size)\n",
    "\n",
    "        stop = 0\n",
    "        \n",
    "        # cropping the wafer image\n",
    "        cropped_image = wafer.crop((start_x,start_y,start_x+section_size,start_y+section_size))\n",
    "        #plt.imshow(cropped_image)\n",
    "        #plt.title(\"Cropped section\"+str(i)+\" :\")\n",
    "        #plt.show()  \n",
    "\n",
    "\n",
    "        # index of all tissue part within the cropped area\n",
    "        tissue_indicies = list()\n",
    "        for index, row in seg_tissues.iterrows(): # iterating over sections\n",
    "            points_within = 0\n",
    "            for j in range(0,8,2): # iterating over the 4 points for each section\n",
    "                if (start_x <= row[j] <= start_x+section_size) & (start_y <= row[j+1] <= start_y+section_size):\n",
    "                    points_within += 1\n",
    "            if(points_within >= 2):\n",
    "                tissue_indicies.append(index)\n",
    "\n",
    "        # index of all magnetic part within the cropped area\n",
    "        mag_indicies = list()\n",
    "        for index, row in seg_mag.iterrows(): # iterating over sections\n",
    "            points_within = 0\n",
    "            for j in range(0,8,2): # iterating over the 4 points for each section\n",
    "                if (start_x <= row[j] <= start_x+section_size) & (start_y <= row[j+1] <= start_y+section_size):\n",
    "                    points_within += 1\n",
    "            if(points_within >= 2):\n",
    "                mag_indicies.append(index)\n",
    "\n",
    "        # keeping only sections indices if both part are within the cropped area\n",
    "        section_indices = list( set(tissue_indicies) or set(mag_indicies) )\n",
    "        #print (section_indices)\n",
    "\n",
    "        if(len(section_indices) >=4):\n",
    "            # creating directories to store results\n",
    "            image_folder = f\"../augmented_dataset/stage1/artif2_{index_img_artif}/crop\"+str(i)+\"/image/\" \n",
    "            os.makedirs(os.path.dirname(image_folder), exist_ok=True)\n",
    "            tissue_masks_folder = f\"../augmented_dataset/stage1/artif2_{index_img_artif}/crop\"+str(i)+\"/tissue_masks/\" \n",
    "            os.makedirs(os.path.dirname(tissue_masks_folder), exist_ok=True)\n",
    "            magnetic_masks_folder = f\"../augmented_dataset/stage1/artif2_{index_img_artif}/crop\"+str(i)+\"/magnetic_masks/\" \n",
    "            os.makedirs(os.path.dirname(magnetic_masks_folder), exist_ok=True)\n",
    "\n",
    "            # creating tissue part mask\n",
    "            ind_img = 0\n",
    "            for section_index in section_indices:\n",
    "                vertices = np.array(seg_tissues.loc[[section_index]]).reshape((4, 2))\n",
    "                #print(vertices)\n",
    "\n",
    "                mask = generate_mask(wafer,vertices)\n",
    "\n",
    "                _mask = Image.fromarray(np.uint8(mask))\n",
    "                _mask = _mask.crop((start_x,start_y,start_x+section_size,start_y+section_size))\n",
    "                #plt.imshow(_mask)\n",
    "                #plt.title(\"Tissue mask \"+str(section_index)+\" :\")\n",
    "                #plt.show()  \n",
    "                \n",
    "                cv.waitKey(1)\n",
    "                if(np.mean(mask) == 0):\n",
    "                    shutil.rmtree(f\"../augmented_dataset/stage1/artif2_{index_img_artif}/crop\"+str(i))\n",
    "                    stop=1\n",
    "                    break\n",
    "\n",
    "                # saving the cropped mask\n",
    "                _mask.save(tissue_masks_folder+str(section_index)+\".tif\")\n",
    "                ind_img = ind_img +1\n",
    "\n",
    "            # creating magnetic part mask\n",
    "            ind_img = 0\n",
    "            if(stop == 0):\n",
    "                for section_index in section_indices:\n",
    "                    vertices = np.array(seg_mag.loc[[section_index]], 'int32').reshape((4, 2))\n",
    "                    #print(vertices)\n",
    "\n",
    "                    mask = generate_mask(wafer,vertices)\n",
    "                    _mask = Image.fromarray(np.uint8(mask))\n",
    "                    _mask = _mask.crop((start_x,start_y,start_x+section_size,start_y+section_size))\n",
    "\n",
    "                    #plt.imshow(_mask)\n",
    "                    #plt.title(\"Magnetic mask \"+str(section_index)+\" :\")\n",
    "                    #plt.show()\n",
    "                    cv.waitKey(1)\n",
    "                    if(np.mean(mask) == 0):\n",
    "                        shutil.rmtree(f\"../augmented_dataset/stage1/artif2_{index_img_artif}/crop\"+str(i))\n",
    "                        stop = 1\n",
    "                        break\n",
    "\n",
    "                    # saving the cropped mask\n",
    "                    _mask.save(magnetic_masks_folder+str(section_index)+\".tif\")\n",
    "                    ind_img = ind_img +1\n",
    "\n",
    "                # saving the cropped image\n",
    "                if(stop==0):\n",
    "                    cropped_image.save(image_folder+str(i)+\".tif\")\n",
    "    "
   ]
  },
  {
   "cell_type": "code",
   "execution_count": 227,
   "metadata": {},
   "outputs": [],
   "source": [
    "for index_img_artif in range(20):\n",
    "    \n",
    "    index = pd.MultiIndex.from_tuples([('point_1', 'x'), ('point_1', 'y'), ('point_2', 'x'), ('point_2', 'y'),\n",
    "                                   ('point_3', 'x'), ('point_3', 'y'), ('point_4', 'x'), ('point_4', 'y')])\n",
    "    \n",
    "    # Wafer file to crop\n",
    "    file = f\"../augmented_dataset/artificial_images/artificial_image3_{index_img_artif}.tif\"\n",
    "    wafer = Image.open(file)\n",
    "    seg_tissues = pd.read_csv(f\"../augmented_dataset/artificial_images/seg_tissues_artif3_{index_img_artif}.txt\", sep=\"\\t|,\", header=None, names=index, engine='python')\n",
    "    seg_mag = pd.read_csv(f\"../augmented_dataset/artificial_images/seg_mag_artif3_{index_img_artif}.txt\", sep=\"\\t|,\", header=None, names=index, engine='python')\n",
    "\n",
    "    \n",
    "    \n",
    "    \n",
    "    for i in range(1,number_of_sections+1):\n",
    "\n",
    "        # random crop coordinates (top-left point of the cropped area)\n",
    "        start_x = random.randint(0, wafer.size[0] - section_size)\n",
    "        start_y = random.randint(0, wafer.size[1] - section_size)\n",
    "    \n",
    "        \n",
    "        stop = 0\n",
    "\n",
    "        # cropping the wafer image\n",
    "        cropped_image = wafer.crop((start_x,start_y,start_x+section_size,start_y+section_size))\n",
    "        #plt.imshow(cropped_image)\n",
    "        #plt.title(\"Cropped section\"+str(i)+\" :\")\n",
    "        #plt.show()  \n",
    "\n",
    "\n",
    "        # index of all tissue part within the cropped area\n",
    "        tissue_indicies = list()\n",
    "        for index, row in seg_tissues.iterrows(): # iterating over sections\n",
    "            points_within = 0\n",
    "            for j in range(0,8,2): # iterating over the 4 points for each section\n",
    "                if (start_x <= row[j] <= start_x+section_size) & (start_y <= row[j+1] <= start_y+section_size):\n",
    "                    points_within += 1\n",
    "            if(points_within >= 2):\n",
    "                tissue_indicies.append(index)\n",
    "\n",
    "        # index of all magnetic part within the cropped area\n",
    "        mag_indicies = list()\n",
    "        for index, row in seg_mag.iterrows(): # iterating over sections\n",
    "            points_within = 0\n",
    "            for j in range(0,8,2): # iterating over the 4 points for each section\n",
    "                if (start_x <= row[j] <= start_x+section_size) & (start_y <= row[j+1] <= start_y+section_size):\n",
    "                    points_within += 1\n",
    "            if(points_within >= 2):\n",
    "                mag_indicies.append(index)\n",
    "\n",
    "        # keeping only sections indices if both part are within the cropped area\n",
    "        section_indices = list( set(tissue_indicies) or set(mag_indicies) )\n",
    "        #print (section_indices)\n",
    "\n",
    "        if(len(section_indices) >=4):\n",
    "            # creating directories to store results\n",
    "            image_folder = f\"../augmented_dataset/stage1/artif3_{index_img_artif}/crop\"+str(i)+\"/image/\" \n",
    "            os.makedirs(os.path.dirname(image_folder), exist_ok=True)\n",
    "            tissue_masks_folder = f\"../augmented_dataset/stage1/artif3_{index_img_artif}/crop\"+str(i)+\"/tissue_masks/\" \n",
    "            os.makedirs(os.path.dirname(tissue_masks_folder), exist_ok=True)\n",
    "            magnetic_masks_folder = f\"../augmented_dataset/stage1/artif3_{index_img_artif}/crop\"+str(i)+\"/magnetic_masks/\" \n",
    "            os.makedirs(os.path.dirname(magnetic_masks_folder), exist_ok=True)\n",
    "\n",
    "            # creating tissue part mask\n",
    "            ind_img = 0\n",
    "            for section_index in section_indices:\n",
    "                vertices = np.array(seg_tissues.loc[[section_index]]).reshape((4, 2))\n",
    "                #print(vertices)\n",
    "\n",
    "                mask = generate_mask(wafer,vertices)\n",
    "\n",
    "                _mask = Image.fromarray(np.uint8(mask))\n",
    "                _mask = _mask.crop((start_x,start_y,start_x+section_size,start_y+section_size))\n",
    "                #plt.imshow(_mask)\n",
    "                #plt.title(\"Tissue mask \"+str(section_index)+\" :\")\n",
    "                #plt.show()  \n",
    "                \n",
    "                cv.waitKey(10)\n",
    "                if(np.mean(mask) == 0):\n",
    "                    shutil.rmtree(f\"../augmented_dataset/stage1/artif3_{index_img_artif}/crop\"+str(i))\n",
    "                    stop=1\n",
    "                    break\n",
    "\n",
    "                # saving the cropped mask\n",
    "                if(stop!=1):\n",
    "                    _mask.save(tissue_masks_folder+str(section_index)+\".tif\")\n",
    "                ind_img = ind_img +1\n",
    "\n",
    "            # creating magnetic part mask\n",
    "            ind_img = 0\n",
    "            for section_index in section_indices:\n",
    "                vertices = np.array(seg_mag.loc[[section_index]], 'int32').reshape((4, 2))\n",
    "                #print(vertices)\n",
    "\n",
    "                mask = generate_mask(wafer,vertices)\n",
    "                _mask = Image.fromarray(np.uint8(mask))\n",
    "                _mask = _mask.crop((start_x,start_y,start_x+section_size,start_y+section_size))\n",
    "\n",
    "                #plt.imshow(_mask)\n",
    "                #plt.title(\"Magnetic mask \"+str(section_index)+\" :\")\n",
    "                #plt.show()\n",
    "                \n",
    "                cv.waitKey(10)\n",
    "                if(stop==1):\n",
    "                    break\n",
    "                if(np.mean(mask) == 0):\n",
    "                    shutil.rmtree(f\"../augmented_dataset/stage1/artif3_{index_img_artif}/crop\"+str(i))\n",
    "                    stop=1\n",
    "                    break\n",
    "\n",
    "                # saving the cropped mask\n",
    "                if(stop!=1):\n",
    "                    _mask.save(magnetic_masks_folder+str(section_index)+\".tif\")\n",
    "                ind_img = ind_img +1\n",
    "\n",
    "            # saving the cropped image\n",
    "            if(stop==0):\n",
    "                cropped_image.save(image_folder+str(i)+\".tif\")\n",
    "    "
   ]
  },
  {
   "cell_type": "code",
   "execution_count": null,
   "metadata": {},
   "outputs": [],
   "source": []
  }
 ],
 "metadata": {
  "kernelspec": {
   "display_name": "Python 3",
   "language": "python",
   "name": "python3"
  },
  "language_info": {
   "codemirror_mode": {
    "name": "ipython",
    "version": 3
   },
   "file_extension": ".py",
   "mimetype": "text/x-python",
   "name": "python",
   "nbconvert_exporter": "python",
   "pygments_lexer": "ipython3",
   "version": "3.6.5"
  }
 },
 "nbformat": 4,
 "nbformat_minor": 2
}
