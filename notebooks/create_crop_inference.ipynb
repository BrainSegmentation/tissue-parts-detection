{
 "cells": [
  {
   "cell_type": "code",
   "execution_count": 50,
   "metadata": {},
   "outputs": [],
   "source": [
    "import os\n",
    "import random\n",
    "import string\n",
    "\n",
    "import numpy as np\n",
    "import pandas as pd\n",
    "from matplotlib import pyplot as plt\n",
    "\n",
    "from PIL import Image\n",
    "import cv2 as cv\n",
    "import shutil"
   ]
  },
  {
   "cell_type": "markdown",
   "metadata": {},
   "source": [
    "This notebook will generate all the images following the Nucleus model.\n",
    "It will crop in 600x600 images and create all the associated masks (1 image per mask)\n",
    "This can work on the original wafer images, and the artificial images."
   ]
  },
  {
   "cell_type": "code",
   "execution_count": 51,
   "metadata": {},
   "outputs": [],
   "source": [
    "index = pd.MultiIndex.from_tuples([('point_1', 'x'), ('point_1', 'y'), ('point_2', 'x'), ('point_2', 'y'),\n",
    "                                   ('point_3', 'x'), ('point_3', 'y'), ('point_4', 'x'), ('point_4', 'y')])"
   ]
  },
  {
   "cell_type": "code",
   "execution_count": 67,
   "metadata": {},
   "outputs": [],
   "source": [
    "DATASET_NUMBER = 11"
   ]
  },
  {
   "cell_type": "code",
   "execution_count": 68,
   "metadata": {},
   "outputs": [],
   "source": [
    "# Wafer file to crop\n",
    "file_wafersBIOP = \"../augmented_dataset/newWafersBIOP/Wafer_\"+str(DATASET_NUMBER)\n",
    "path_image = file_wafersBIOP+\"/stitched_RGB_small.tif\"\n",
    "wafer = Image.open(path_image)\n"
   ]
  },
  {
   "cell_type": "code",
   "execution_count": 69,
   "metadata": {},
   "outputs": [],
   "source": [
    "# Height and width of the resulting section in pixels\n",
    "section_size = 512\n"
   ]
  },
  {
   "cell_type": "code",
   "execution_count": 70,
   "metadata": {},
   "outputs": [],
   "source": [
    "generate_batches(file_wafersBIOP, path_image , section_size)"
   ]
  },
  {
   "cell_type": "code",
   "execution_count": null,
   "metadata": {},
   "outputs": [],
   "source": []
  },
  {
   "cell_type": "code",
   "execution_count": 66,
   "metadata": {
    "scrolled": false
   },
   "outputs": [],
   "source": [
    "def generate_batches(file_wafersBIOP, path_image, section_size):\n",
    "    \n",
    "    wafer = Image.open(path_image)\n",
    "    \n",
    "    coef_x = (wafer.size[0] // section_size) -1\n",
    "    left_x = wafer.size[0] - (coef_x * section_size)\n",
    "    \n",
    "    coef_y = (wafer.size[1] // section_size) -1\n",
    "    left_y = wafer.size[1] - (coef_y * section_size)\n",
    "\n",
    "    for i in range(coef_x):\n",
    "        \n",
    "        for j in range(coef_y):\n",
    "        # random crop coordinates (top-left point of the cropped area)\n",
    "            start_x = i*section_size\n",
    "            start_y = j*section_size\n",
    "\n",
    "            # cropping the wafer image\n",
    "            cropped_image = wafer.crop((start_x,start_y,start_x+section_size,start_y+section_size))\n",
    "\n",
    "            # saving the cropped image\n",
    "            cropped_image.save(file_wafersBIOP+\"/wafer_crop\"+str(i)+\"_\"+str(j)+\".tif\")\n",
    "    \n",
    "    \n",
    "    "
   ]
  },
  {
   "cell_type": "code",
   "execution_count": null,
   "metadata": {},
   "outputs": [],
   "source": []
  }
 ],
 "metadata": {
  "kernelspec": {
   "display_name": "Python 3",
   "language": "python",
   "name": "python3"
  },
  "language_info": {
   "codemirror_mode": {
    "name": "ipython",
    "version": 3
   },
   "file_extension": ".py",
   "mimetype": "text/x-python",
   "name": "python",
   "nbconvert_exporter": "python",
   "pygments_lexer": "ipython3",
   "version": "3.6.5"
  }
 },
 "nbformat": 4,
 "nbformat_minor": 2
}
