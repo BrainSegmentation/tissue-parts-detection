{
 "cells": [
  {
   "cell_type": "markdown",
   "metadata": {},
   "source": [
    "# Labeled Wafer Images"
   ]
  },
  {
   "cell_type": "code",
   "execution_count": 1,
   "metadata": {},
   "outputs": [],
   "source": [
    "import numpy as np\n",
    "import pandas as pd\n",
    "import cv2 as cv\n",
    "from matplotlib import pyplot as plt\n",
    "from matplotlib.lines import Line2D"
   ]
  },
  {
   "cell_type": "code",
   "execution_count": 2,
   "metadata": {},
   "outputs": [
    {
     "data": {
      "text/html": [
       "<style>.container { width:95% !important; }</style>"
      ],
      "text/plain": [
       "<IPython.core.display.HTML object>"
      ]
     },
     "metadata": {},
     "output_type": "display_data"
    }
   ],
   "source": [
    "def fix_layout(width:int=95):\n",
    "    from IPython.core.display import display, HTML\n",
    "    display(HTML('<style>.container { width:' + str(width) + '% !important; }</style>'))\n",
    "\n",
    "fix_layout()"
   ]
  },
  {
   "cell_type": "markdown",
   "metadata": {},
   "source": [
    "## Silicon Wafer 1"
   ]
  },
  {
   "cell_type": "markdown",
   "metadata": {},
   "source": [
    "### Load Data"
   ]
  },
  {
   "cell_type": "code",
   "execution_count": 3,
   "metadata": {},
   "outputs": [],
   "source": [
    "# location of silicon wafer 1 data\n",
    "dir_silicon_wafer_1 = \"../dataset/silicon_wafer_1\""
   ]
  },
  {
   "cell_type": "markdown",
   "metadata": {},
   "source": [
    "Prepare column names (`MultiIndex`) for reading data frame:"
   ]
  },
  {
   "cell_type": "code",
   "execution_count": 4,
   "metadata": {},
   "outputs": [],
   "source": [
    "index = pd.MultiIndex.from_tuples([('point_1', 'x'), ('point_1', 'y'), ('point_2', 'x'), ('point_2', 'y'),\n",
    "                                   ('point_3', 'x'), ('point_3', 'y'), ('point_4', 'x'), ('point_4', 'y')])"
   ]
  },
  {
   "cell_type": "markdown",
   "metadata": {},
   "source": [
    "Read the labels of tissue from the file:"
   ]
  },
  {
   "cell_type": "code",
   "execution_count": 5,
   "metadata": {
    "scrolled": false
   },
   "outputs": [
    {
     "name": "stdout",
     "output_type": "stream",
     "text": [
      "Size of the Silicon Wafer 1 dataset, tissue part is (514, 8)\n"
     ]
    },
    {
     "data": {
      "text/html": [
       "<div>\n",
       "<style scoped>\n",
       "    .dataframe tbody tr th:only-of-type {\n",
       "        vertical-align: middle;\n",
       "    }\n",
       "\n",
       "    .dataframe tbody tr th {\n",
       "        vertical-align: top;\n",
       "    }\n",
       "\n",
       "    .dataframe thead tr th {\n",
       "        text-align: left;\n",
       "    }\n",
       "</style>\n",
       "<table border=\"1\" class=\"dataframe\">\n",
       "  <thead>\n",
       "    <tr>\n",
       "      <th></th>\n",
       "      <th colspan=\"2\" halign=\"left\">point_1</th>\n",
       "      <th colspan=\"2\" halign=\"left\">point_2</th>\n",
       "      <th colspan=\"2\" halign=\"left\">point_3</th>\n",
       "      <th colspan=\"2\" halign=\"left\">point_4</th>\n",
       "    </tr>\n",
       "    <tr>\n",
       "      <th></th>\n",
       "      <th>x</th>\n",
       "      <th>y</th>\n",
       "      <th>x</th>\n",
       "      <th>y</th>\n",
       "      <th>x</th>\n",
       "      <th>y</th>\n",
       "      <th>x</th>\n",
       "      <th>y</th>\n",
       "    </tr>\n",
       "  </thead>\n",
       "  <tbody>\n",
       "    <tr>\n",
       "      <th>0</th>\n",
       "      <td>6785</td>\n",
       "      <td>3094</td>\n",
       "      <td>6724</td>\n",
       "      <td>2937</td>\n",
       "      <td>7103</td>\n",
       "      <td>2812</td>\n",
       "      <td>7120</td>\n",
       "      <td>2965</td>\n",
       "    </tr>\n",
       "    <tr>\n",
       "      <th>1</th>\n",
       "      <td>6347</td>\n",
       "      <td>3218</td>\n",
       "      <td>6275</td>\n",
       "      <td>3066</td>\n",
       "      <td>6649</td>\n",
       "      <td>2922</td>\n",
       "      <td>6675</td>\n",
       "      <td>3071</td>\n",
       "    </tr>\n",
       "    <tr>\n",
       "      <th>2</th>\n",
       "      <td>6037</td>\n",
       "      <td>3596</td>\n",
       "      <td>5972</td>\n",
       "      <td>3442</td>\n",
       "      <td>6352</td>\n",
       "      <td>3314</td>\n",
       "      <td>6371</td>\n",
       "      <td>3463</td>\n",
       "    </tr>\n",
       "    <tr>\n",
       "      <th>3</th>\n",
       "      <td>6487</td>\n",
       "      <td>3605</td>\n",
       "      <td>6399</td>\n",
       "      <td>3461</td>\n",
       "      <td>6749</td>\n",
       "      <td>3274</td>\n",
       "      <td>6793</td>\n",
       "      <td>3424</td>\n",
       "    </tr>\n",
       "    <tr>\n",
       "      <th>4</th>\n",
       "      <td>6858</td>\n",
       "      <td>3507</td>\n",
       "      <td>6776</td>\n",
       "      <td>3363</td>\n",
       "      <td>7136</td>\n",
       "      <td>3187</td>\n",
       "      <td>7170</td>\n",
       "      <td>3333</td>\n",
       "    </tr>\n",
       "  </tbody>\n",
       "</table>\n",
       "</div>"
      ],
      "text/plain": [
       "  point_1       point_2       point_3       point_4      \n",
       "        x     y       x     y       x     y       x     y\n",
       "0    6785  3094    6724  2937    7103  2812    7120  2965\n",
       "1    6347  3218    6275  3066    6649  2922    6675  3071\n",
       "2    6037  3596    5972  3442    6352  3314    6371  3463\n",
       "3    6487  3605    6399  3461    6749  3274    6793  3424\n",
       "4    6858  3507    6776  3363    7136  3187    7170  3333"
      ]
     },
     "execution_count": 5,
     "metadata": {},
     "output_type": "execute_result"
    }
   ],
   "source": [
    "wafer_tissue_lbl = pd.read_csv(f\"{dir_silicon_wafer_1}/source_sections_tissue.txt\", sep=\"\\t|,\", header=None, names=index, engine='python')\n",
    "print(f\"Size of the Silicon Wafer 1 dataset, tissue part is {wafer_tissue_lbl.shape}\")\n",
    "wafer_tissue_lbl.head()"
   ]
  },
  {
   "cell_type": "markdown",
   "metadata": {},
   "source": [
    "Read the labels of magnet from the file:"
   ]
  },
  {
   "cell_type": "code",
   "execution_count": 6,
   "metadata": {},
   "outputs": [
    {
     "name": "stdout",
     "output_type": "stream",
     "text": [
      "Size of the Silicon Wafer 1 dataset, magnet part is (514, 8)\n"
     ]
    },
    {
     "data": {
      "text/html": [
       "<div>\n",
       "<style scoped>\n",
       "    .dataframe tbody tr th:only-of-type {\n",
       "        vertical-align: middle;\n",
       "    }\n",
       "\n",
       "    .dataframe tbody tr th {\n",
       "        vertical-align: top;\n",
       "    }\n",
       "\n",
       "    .dataframe thead tr th {\n",
       "        text-align: left;\n",
       "    }\n",
       "</style>\n",
       "<table border=\"1\" class=\"dataframe\">\n",
       "  <thead>\n",
       "    <tr>\n",
       "      <th></th>\n",
       "      <th colspan=\"2\" halign=\"left\">point_1</th>\n",
       "      <th colspan=\"2\" halign=\"left\">point_2</th>\n",
       "      <th colspan=\"2\" halign=\"left\">point_3</th>\n",
       "      <th colspan=\"2\" halign=\"left\">point_4</th>\n",
       "    </tr>\n",
       "    <tr>\n",
       "      <th></th>\n",
       "      <th>x</th>\n",
       "      <th>y</th>\n",
       "      <th>x</th>\n",
       "      <th>y</th>\n",
       "      <th>x</th>\n",
       "      <th>y</th>\n",
       "      <th>x</th>\n",
       "      <th>y</th>\n",
       "    </tr>\n",
       "  </thead>\n",
       "  <tbody>\n",
       "    <tr>\n",
       "      <th>0</th>\n",
       "      <td>6840</td>\n",
       "      <td>3232</td>\n",
       "      <td>6787</td>\n",
       "      <td>3099</td>\n",
       "      <td>7120</td>\n",
       "      <td>2968</td>\n",
       "      <td>7143</td>\n",
       "      <td>3117</td>\n",
       "    </tr>\n",
       "    <tr>\n",
       "      <th>1</th>\n",
       "      <td>6410</td>\n",
       "      <td>3355</td>\n",
       "      <td>6351</td>\n",
       "      <td>3225</td>\n",
       "      <td>6672</td>\n",
       "      <td>3075</td>\n",
       "      <td>6707</td>\n",
       "      <td>3217</td>\n",
       "    </tr>\n",
       "    <tr>\n",
       "      <th>2</th>\n",
       "      <td>6096</td>\n",
       "      <td>3733</td>\n",
       "      <td>6041</td>\n",
       "      <td>3599</td>\n",
       "      <td>6372</td>\n",
       "      <td>3467</td>\n",
       "      <td>6396</td>\n",
       "      <td>3610</td>\n",
       "    </tr>\n",
       "    <tr>\n",
       "      <th>3</th>\n",
       "      <td>6566</td>\n",
       "      <td>3739</td>\n",
       "      <td>6490</td>\n",
       "      <td>3609</td>\n",
       "      <td>6791</td>\n",
       "      <td>3425</td>\n",
       "      <td>6842</td>\n",
       "      <td>3564</td>\n",
       "    </tr>\n",
       "    <tr>\n",
       "      <th>4</th>\n",
       "      <td>6930</td>\n",
       "      <td>3636</td>\n",
       "      <td>6859</td>\n",
       "      <td>3510</td>\n",
       "      <td>7171</td>\n",
       "      <td>3336</td>\n",
       "      <td>7212</td>\n",
       "      <td>3479</td>\n",
       "    </tr>\n",
       "  </tbody>\n",
       "</table>\n",
       "</div>"
      ],
      "text/plain": [
       "  point_1       point_2       point_3       point_4      \n",
       "        x     y       x     y       x     y       x     y\n",
       "0    6840  3232    6787  3099    7120  2968    7143  3117\n",
       "1    6410  3355    6351  3225    6672  3075    6707  3217\n",
       "2    6096  3733    6041  3599    6372  3467    6396  3610\n",
       "3    6566  3739    6490  3609    6791  3425    6842  3564\n",
       "4    6930  3636    6859  3510    7171  3336    7212  3479"
      ]
     },
     "execution_count": 6,
     "metadata": {},
     "output_type": "execute_result"
    }
   ],
   "source": [
    "wafer_magnet_lbl = pd.read_csv(f\"{dir_silicon_wafer_1}/source_sections_mag.txt\", sep=\"\\t|,\", header=None, names=index, engine='python')\n",
    "print(f\"Size of the Silicon Wafer 1 dataset, magnet part is {wafer_magnet_lbl.shape}\")\n",
    "wafer_magnet_lbl.head()"
   ]
  },
  {
   "cell_type": "markdown",
   "metadata": {},
   "source": [
    "### Drawing"
   ]
  },
  {
   "cell_type": "markdown",
   "metadata": {},
   "source": [
    "Helper to convert hex color code to RGB code."
   ]
  },
  {
   "cell_type": "code",
   "execution_count": 7,
   "metadata": {},
   "outputs": [],
   "source": [
    "def rgb(hex_color):\n",
    "    return tuple(int(hex_color.lstrip('#')[i:i+2], 16) for i in (0, 2 ,4))"
   ]
  },
  {
   "cell_type": "markdown",
   "metadata": {},
   "source": [
    "Helper to draw labels from dataframe on the image:"
   ]
  },
  {
   "cell_type": "code",
   "execution_count": 8,
   "metadata": {},
   "outputs": [],
   "source": [
    "def draw_labels(image, labels_df, scale, thickness, color, fill_poly):\n",
    "    for row in range(labels_df.shape[0]):\n",
    "        pts = (np.array([[labels_df.point_1.x[row], labels_df.point_1.y[row]],\n",
    "                        [labels_df.point_2.x[row], labels_df.point_2.y[row]],\n",
    "                        [labels_df.point_3.x[row], labels_df.point_3.y[row]],\n",
    "                        [labels_df.point_4.x[row], labels_df.point_4.y[row]]])//scale).reshape((-1,1,2))\n",
    "        if fill_poly:\n",
    "            image = cv.fillPoly(image, np.int32([pts]), color=rgb(color))\n",
    "        else:\n",
    "            image = cv.polylines(image, np.int32([pts]), True, color=rgb(color), thickness=thickness)\n",
    "    \n",
    "    return image"
   ]
  },
  {
   "cell_type": "markdown",
   "metadata": {},
   "source": [
    "Read the image of Silicon Wafer 1:"
   ]
  },
  {
   "cell_type": "code",
   "execution_count": 9,
   "metadata": {},
   "outputs": [],
   "source": [
    "wafer_1 = cv.imread(f\"{dir_silicon_wafer_1}/wafer_1_downsize_3.tif\")"
   ]
  },
  {
   "cell_type": "markdown",
   "metadata": {},
   "source": [
    "Some general settings:"
   ]
  },
  {
   "cell_type": "code",
   "execution_count": 10,
   "metadata": {},
   "outputs": [],
   "source": [
    "scale = 3\n",
    "thickness = 5\n",
    "magnet_color = \"#00cccc\"\n",
    "tissue_color = \"#ff6666\"\n",
    "\n",
    "fill_poly = False"
   ]
  },
  {
   "cell_type": "markdown",
   "metadata": {},
   "source": [
    "Draw the magnet labels:"
   ]
  },
  {
   "cell_type": "code",
   "execution_count": 11,
   "metadata": {},
   "outputs": [],
   "source": [
    "wafer_1 = draw_labels(wafer_1, wafer_magnet_lbl, scale, thickness, magnet_color, fill_poly)"
   ]
  },
  {
   "cell_type": "markdown",
   "metadata": {},
   "source": [
    "Draw the tissue labels:"
   ]
  },
  {
   "cell_type": "code",
   "execution_count": 12,
   "metadata": {},
   "outputs": [],
   "source": [
    "wafer_1 = draw_labels(wafer_1, wafer_tissue_lbl, scale, thickness, tissue_color, fill_poly)"
   ]
  },
  {
   "cell_type": "markdown",
   "metadata": {},
   "source": [
    "Draw final image:"
   ]
  },
  {
   "cell_type": "code",
   "execution_count": null,
   "metadata": {
    "scrolled": false
   },
   "outputs": [],
   "source": [
    "plt.figure(figsize=(40, 36.61))\n",
    "plt.imshow(wafer_1)\n",
    "\n",
    "plt.title('Silicon Wafer 1')\n",
    "\n",
    "legend_elements = [Line2D([0], [0], color=magnet_color, lw=thickness, label='Magnet Part'),\n",
    "                   Line2D([0], [0], color=tissue_color, lw=thickness, label='Brain Part')]\n",
    "plt.legend(handles=legend_elements, loc='center', fontsize=20)\n",
    "\n",
    "plt.show()"
   ]
  },
  {
   "cell_type": "markdown",
   "metadata": {},
   "source": [
    "---"
   ]
  },
  {
   "cell_type": "markdown",
   "metadata": {},
   "source": [
    "## Silicon Wafer 1 (rotated)"
   ]
  },
  {
   "cell_type": "code",
   "execution_count": null,
   "metadata": {},
   "outputs": [],
   "source": [
    "# Load data here, if previous part doesn't exist\n",
    "# Bellow we reload wafer_1 image and reuse data frames and rotate them"
   ]
  },
  {
   "cell_type": "markdown",
   "metadata": {},
   "source": [
    "### Rotate the image"
   ]
  },
  {
   "cell_type": "code",
   "execution_count": null,
   "metadata": {
    "scrolled": false
   },
   "outputs": [],
   "source": [
    "# clean read image again\n",
    "wafer_1 = cv.imread(f\"{dir_silicon_wafer_1}/wafer_1_downsize_3.tif\")\n",
    "# wafer_1 = cv.resize(wafer_1, (6136, 5616))\n",
    "\n",
    "# number of pixels: rows, cols = 5616, 6136\n",
    "rows, cols = wafer_1.shape[:2]\n",
    "print(rows, cols)\n",
    "\n",
    "# center of rotation (x, y)\n",
    "center = (cols/2, rows/2)\n",
    "\n",
    "# angle of couterclockwise rotation\n",
    "angle = 90\n",
    "\n",
    "# get rotation matrix, will be used in labels rotation\n",
    "M = cv.getRotationMatrix2D(center, angle=angle, scale=1)\n",
    "print(M)\n",
    "\n",
    "# rotate the picture\n",
    "wafer_1_rot = cv.warpAffine(wafer_1, M, (rows, cols))\n",
    "print(wafer_1_rot.shape[:2])\n"
   ]
  },
  {
   "cell_type": "markdown",
   "metadata": {},
   "source": [
    "### Rotate the labels"
   ]
  },
  {
   "cell_type": "code",
   "execution_count": null,
   "metadata": {},
   "outputs": [],
   "source": [
    "def rotate_rectangle(label, M):\n",
    "    rotate_point = lambda point, M: (M[0][0]*point.x + M[0][1]*point.y + M[0][2] + 520,  # TODO: this is hardcoded!!!! Find out why is this value like this\n",
    "                                     M[1][0]*point.x + M[1][1]*point.y + M[1][2] + 11750) # TODO: this is hardcoded!!!! Find out why is this value like this\n",
    "    label.point_1 = rotate_point(label.point_1, M)\n",
    "    label.point_2 = rotate_point(label.point_2, M)\n",
    "    label.point_3 = rotate_point(label.point_3, M)\n",
    "    label.point_4 = rotate_point(label.point_4, M)\n",
    "    \n",
    "    return label"
   ]
  },
  {
   "cell_type": "code",
   "execution_count": null,
   "metadata": {},
   "outputs": [],
   "source": [
    "wafer_tissue_lbl_rot = wafer_tissue_lbl.apply(lambda row: rotate_rectangle(row, M), axis=1)\n",
    "wafer_magnet_lbl_rot = wafer_magnet_lbl.apply(lambda row: rotate_rectangle(row, M), axis=1)"
   ]
  },
  {
   "cell_type": "markdown",
   "metadata": {},
   "source": [
    "### Drawing"
   ]
  },
  {
   "cell_type": "code",
   "execution_count": null,
   "metadata": {},
   "outputs": [],
   "source": [
    "wafer_1_rot = draw_labels(wafer_1_rot, wafer_tissue_lbl_rot, scale, thickness, tissue_color, fill_poly)"
   ]
  },
  {
   "cell_type": "code",
   "execution_count": null,
   "metadata": {},
   "outputs": [],
   "source": [
    "wafer_1_rot = draw_labels(wafer_1_rot, wafer_magnet_lbl_rot, scale, thickness, magnet_color, fill_poly)"
   ]
  },
  {
   "cell_type": "code",
   "execution_count": null,
   "metadata": {},
   "outputs": [],
   "source": [
    "center = (520//3, 11750//3) # (520, 11750)\n",
    "wafer_1_rot = cv.circle(wafer_1_rot, center, 100, (0,255,0), thickness=10)"
   ]
  },
  {
   "cell_type": "code",
   "execution_count": null,
   "metadata": {
    "scrolled": false
   },
   "outputs": [],
   "source": [
    "plt.figure(figsize=(40, 36.61))\n",
    "plt.imshow(wafer_1_rot)\n",
    "plt.title('Silicon Wafer 1 [Rotated 90 deg]')\n",
    "\n",
    "legend_elements = [Line2D([0], [0], color=magnet_color, lw=thickness, label='Magnet Part'),\n",
    "                   Line2D([0], [0], color=tissue_color, lw=thickness, label='Brain Part')]\n",
    "plt.legend(handles=legend_elements, loc='center', fontsize=20)\n",
    "\n",
    "plt.show()"
   ]
  },
  {
   "cell_type": "code",
   "execution_count": null,
   "metadata": {},
   "outputs": [],
   "source": []
  },
  {
   "cell_type": "code",
   "execution_count": null,
   "metadata": {},
   "outputs": [],
   "source": []
  },
  {
   "cell_type": "code",
   "execution_count": null,
   "metadata": {},
   "outputs": [],
   "source": []
  },
  {
   "cell_type": "code",
   "execution_count": null,
   "metadata": {},
   "outputs": [],
   "source": []
  }
 ],
 "metadata": {
  "kernelspec": {
   "display_name": "Python 3",
   "language": "python",
   "name": "python3"
  },
  "language_info": {
   "codemirror_mode": {
    "name": "ipython",
    "version": 3
   },
   "file_extension": ".py",
   "mimetype": "text/x-python",
   "name": "python",
   "nbconvert_exporter": "python",
   "pygments_lexer": "ipython3",
   "version": "3.6.5"
  }
 },
 "nbformat": 4,
 "nbformat_minor": 2
}
