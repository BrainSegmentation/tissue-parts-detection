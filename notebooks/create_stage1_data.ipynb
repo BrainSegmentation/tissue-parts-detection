{
 "cells": [
  {
   "cell_type": "code",
   "execution_count": 1,
   "metadata": {},
   "outputs": [],
   "source": [
    "import os\n",
    "import random\n",
    "import string\n",
    "\n",
    "import numpy as np\n",
    "import pandas as pd\n",
    "from matplotlib import pyplot as plt\n",
    "\n",
    "from PIL import Image\n",
    "import cv2 as cv\n",
    "import shutil"
   ]
  },
  {
   "cell_type": "markdown",
   "metadata": {},
   "source": [
    "This notebook will generate all the images following the Nucleus model.\n",
    "It will crop in 600x600 images and create all the associated masks (1 image per mask)\n",
    "This can work on the original wafer images, and the artificial images."
   ]
  },
  {
   "cell_type": "code",
   "execution_count": 2,
   "metadata": {},
   "outputs": [],
   "source": [
    "index = pd.MultiIndex.from_tuples([('point_1', 'x'), ('point_1', 'y'), ('point_2', 'x'), ('point_2', 'y'),\n",
    "                                   ('point_3', 'x'), ('point_3', 'y'), ('point_4', 'x'), ('point_4', 'y')])"
   ]
  },
  {
   "cell_type": "code",
   "execution_count": 4,
   "metadata": {},
   "outputs": [],
   "source": [
    "# Wafer file to crop\n",
    "file = \"../augmented_dataset/wafer_with_fluo_RGB_\"+str(DATASET_NUMBER)+\".tif\"\n",
    "wafer = Image.open(file)\n",
    "seg_tissues = pd.read_csv(\"../dataset/silicon_wafer_\"+str(DATASET_NUMBER)+\"/source_sections_mag_scale3.txt\", sep=\"\\t|,\", header=None, names=index, engine='python')\n",
    "seg_mag = pd.read_csv(\"../dataset/silicon_wafer_\"+str(DATASET_NUMBER)+\"/source_sections_tissue_scale3.txt\", sep=\"\\t|,\", header=None, names=index, engine='python')\n",
    "\n"
   ]
  },
  {
   "cell_type": "code",
   "execution_count": 6,
   "metadata": {},
   "outputs": [],
   "source": [
    "DATASET_NUMBER = 1\n",
    "\n",
    "# Height and width of the resulting section in pixels\n",
    "section_size = 512\n",
    "\n",
    "# Number of sections that will be generated\n",
    "number_of_sections = 40"
   ]
  },
  {
   "cell_type": "code",
   "execution_count": 9,
   "metadata": {},
   "outputs": [],
   "source": [
    "generate_batches(DATASET_NUMBER, number_of_sections, section_size)"
   ]
  },
  {
   "cell_type": "code",
   "execution_count": 7,
   "metadata": {},
   "outputs": [],
   "source": [
    "def generate_mask(image, points):\n",
    "    # size of the image\n",
    "    height = image.size[1]\n",
    "    width = image.size[0]\n",
    "    \n",
    "    # init mask\n",
    "    img_mask = np.zeros([height,width],dtype=np.uint8)\n",
    "    img_mask.fill(0)\n",
    "    \n",
    "    cv.fillConvexPoly(img_mask, points, 255)\n",
    "    \n",
    "    return img_mask"
   ]
  },
  {
   "cell_type": "code",
   "execution_count": 8,
   "metadata": {
    "scrolled": false
   },
   "outputs": [],
   "source": [
    "def generate_batches(DATASET_NUMBER, number_of_sections, section_size):\n",
    "    \n",
    "    index = pd.MultiIndex.from_tuples([('point_1', 'x'), ('point_1', 'y'), ('point_2', 'x'), ('point_2', 'y'),\n",
    "                                   ('point_3', 'x'), ('point_3', 'y'), ('point_4', 'x'), ('point_4', 'y')])\n",
    "\n",
    "    # Wafer file to crop\n",
    "    file = \"../augmented_dataset/wafer_with_fluo_RGB_\"+str(DATASET_NUMBER)+\".tif\"\n",
    "    wafer = Image.open(file)\n",
    "    seg_tissues = pd.read_csv(\"../dataset/silicon_wafer_\"+str(DATASET_NUMBER)+\"/source_sections_tissue_scale3.txt\", sep=\"\\t|,\", header=None, names=index, engine='python')\n",
    "    seg_mag = pd.read_csv(\"../dataset/silicon_wafer_\"+str(DATASET_NUMBER)+\"/source_sections_mag_scale3.txt\", sep=\"\\t|,\", header=None, names=index, engine='python')\n",
    "\n",
    "\n",
    "\n",
    "    for i in range(1,number_of_sections+1):\n",
    "\n",
    "        # random crop coordinates (top-left point of the cropped area)\n",
    "        start_x = random.randint(0, wafer.size[0] - section_size)\n",
    "        start_y = random.randint(0, wafer.size[1] - section_size)\n",
    "\n",
    "        # cropping the wafer image\n",
    "        cropped_image = wafer.crop((start_x,start_y,start_x+section_size,start_y+section_size))\n",
    "\n",
    "\n",
    "        # index of all tissue part within the cropped area\n",
    "        tissue_indicies = list()\n",
    "        for index, row in seg_tissues.iterrows(): # iterating over sections\n",
    "            points_within = 0\n",
    "            for j in range(0,8,2): # iterating over the 4 points for each section\n",
    "                if (start_x < row[j]-5) &  (row[j] < start_x+section_size-5) & (start_y < row[j+1]-5) &  (row[j+1]< start_y+section_size-5):\n",
    "                    points_within += 1\n",
    "            if(points_within >= 1):\n",
    "                tissue_indicies.append(index)\n",
    "\n",
    "        # index of all magnetic part within the cropped area\n",
    "        mag_indicies = list()\n",
    "        for index, row in seg_mag.iterrows(): # iterating over sections\n",
    "            points_within = 0\n",
    "            for j in range(0,8,2): # iterating over the 4 points for each section\n",
    "                if (start_x < row[j]-5) &  (row[j] < start_x+section_size-5) & (start_y < row[j+1]-5) &  (row[j+1]< start_y+section_size-5):\n",
    "                    points_within += 1\n",
    "            if(points_within >= 1):\n",
    "                mag_indicies.append(index)\n",
    "\n",
    "\n",
    "        if( (len(tissue_indicies) >=3) & (len(mag_indicies) >=3) ):\n",
    "\n",
    "            # creating directories to store results\n",
    "            image_folder = f\"../augmented_dataset/stage1/wafer{str(DATASET_NUMBER)}_crop\"+str(i)+\"/image/\" \n",
    "            os.makedirs(os.path.dirname(image_folder), exist_ok=True)\n",
    "            tissue_masks_folder = f\"../augmented_dataset/stage1/wafer{str(DATASET_NUMBER)}_crop\"+str(i)+\"/tissue_masks/\" \n",
    "            os.makedirs(os.path.dirname(tissue_masks_folder), exist_ok=True)\n",
    "            magnetic_masks_folder = f\"../augmented_dataset/stage1/wafer{str(DATASET_NUMBER)}_crop\"+str(i)+\"/magnetic_masks/\" \n",
    "            os.makedirs(os.path.dirname(magnetic_masks_folder), exist_ok=True)\n",
    "\n",
    "            # creating tissue part mask\n",
    "            ind_img = 0\n",
    "            for section_index in tissue_indicies:\n",
    "                vertices = np.array(seg_tissues.loc[[section_index]]).reshape((4, 2))\n",
    "                #print(vertices)\n",
    "\n",
    "                mask = generate_mask(wafer,vertices)\n",
    "                _mask = Image.fromarray(np.uint8(mask))\n",
    "                _mask = _mask.crop((start_x,start_y,start_x+section_size,start_y+section_size))\n",
    " \n",
    "\n",
    "                # saving the cropped mask\n",
    "                _mask.save(tissue_masks_folder+str(section_index)+\".tif\")\n",
    "                ind_img = ind_img +1\n",
    "\n",
    "\n",
    "            # creating magnetic part mask\n",
    "            ind_img = 0\n",
    "            for section_index in mag_indicies:\n",
    "                vertices = np.array(seg_mag.loc[[section_index]], 'int32').reshape((4, 2))\n",
    "                #print(vertices)\n",
    "\n",
    "                mask = generate_mask(wafer,vertices)\n",
    "                _mask = Image.fromarray(np.uint8(mask))\n",
    "                _mask = _mask.crop((start_x,start_y,start_x+section_size,start_y+section_size))\n",
    "\n",
    "                # saving the cropped mask\n",
    "                _mask.save(magnetic_masks_folder+str(section_index)+\".tif\")\n",
    "                ind_img = ind_img +1\n",
    "\n",
    "            # saving the cropped image\n",
    "            cropped_image.save(image_folder+\"wafer\"+str(DATASET_NUMBER)+\"_crop\"+str(i)+\".tif\")\n"
   ]
  },
  {
   "cell_type": "code",
   "execution_count": null,
   "metadata": {},
   "outputs": [],
   "source": []
  }
 ],
 "metadata": {
  "kernelspec": {
   "display_name": "Python 3",
   "language": "python",
   "name": "python3"
  },
  "language_info": {
   "codemirror_mode": {
    "name": "ipython",
    "version": 3
   },
   "file_extension": ".py",
   "mimetype": "text/x-python",
   "name": "python",
   "nbconvert_exporter": "python",
   "pygments_lexer": "ipython3",
   "version": "3.6.5"
  }
 },
 "nbformat": 4,
 "nbformat_minor": 2
}
