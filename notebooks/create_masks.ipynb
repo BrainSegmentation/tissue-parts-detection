{
 "cells": [
  {
   "cell_type": "code",
   "execution_count": 1,
   "metadata": {},
   "outputs": [],
   "source": [
    "import os\n",
    "import numpy as np\n",
    "import pandas as pd\n",
    "import cv2 as cv\n",
    "from matplotlib import pyplot as plt\n",
    "from matplotlib.lines import Line2D\n",
    "from PIL import Image"
   ]
  },
  {
   "cell_type": "code",
   "execution_count": 2,
   "metadata": {},
   "outputs": [
    {
     "data": {
      "text/html": [
       "<style>.container { width:95% !important; }</style>"
      ],
      "text/plain": [
       "<IPython.core.display.HTML object>"
      ]
     },
     "metadata": {},
     "output_type": "display_data"
    }
   ],
   "source": [
    "def fix_layout(width:int=95):\n",
    "    from IPython.core.display import display, HTML\n",
    "    display(HTML('<style>.container { width:' + str(width) + '% !important; }</style>'))\n",
    "\n",
    "fix_layout()"
   ]
  },
  {
   "cell_type": "code",
   "execution_count": 3,
   "metadata": {},
   "outputs": [],
   "source": [
    "# reminder: image is downscaled by 3, we need to downscale the label coordinates as well\n",
    "scale = 3"
   ]
  },
  {
   "cell_type": "markdown",
   "metadata": {},
   "source": [
    "### Select Dataset"
   ]
  },
  {
   "cell_type": "code",
   "execution_count": 5,
   "metadata": {},
   "outputs": [],
   "source": [
    "DATASET_NUMBER = 1"
   ]
  },
  {
   "cell_type": "code",
   "execution_count": 6,
   "metadata": {},
   "outputs": [],
   "source": [
    "# location of silicon wafer 1 data\n",
    "dir_images = \"data\"+str(DATASET_NUMBER)+\"_cropped/\""
   ]
  },
  {
   "cell_type": "code",
   "execution_count": 7,
   "metadata": {},
   "outputs": [],
   "source": [
    "index = pd.MultiIndex.from_tuples([('point_1', 'x'), ('point_1', 'y'), ('point_2', 'x'), ('point_2', 'y'),\n",
    "                                   ('point_3', 'x'), ('point_3', 'y'), ('point_4', 'x'), ('point_4', 'y')])"
   ]
  },
  {
   "cell_type": "markdown",
   "metadata": {},
   "source": [
    "### Drawing"
   ]
  },
  {
   "cell_type": "code",
   "execution_count": 8,
   "metadata": {},
   "outputs": [],
   "source": [
    "def rgb(hex_color):\n",
    "    return tuple(int(hex_color.lstrip('#')[i:i+2], 16) for i in (0, 2 ,4))"
   ]
  },
  {
   "cell_type": "code",
   "execution_count": 9,
   "metadata": {},
   "outputs": [],
   "source": [
    "def draw_labels(image, labels_df, thickness, color, fill_poly):\n",
    "    for row in range(labels_df.shape[0]):\n",
    "        pts = np.array(labels_df.loc[row]).reshape((-1,1,2))\n",
    "        if fill_poly:\n",
    "            image = cv.fillPoly(image, np.int32([pts]), color=rgb(color))\n",
    "        else:\n",
    "            image = cv.polylines(image, np.int32([pts]), True, color=rgb(color), thickness=thickness)\n",
    "    \n",
    "    return image"
   ]
  },
  {
   "cell_type": "code",
   "execution_count": 10,
   "metadata": {},
   "outputs": [],
   "source": [
    "thickness = 5\n",
    "magnet_color = \"#00cccc\"\n",
    "tissue_color = \"#ff6666\"\n",
    "\n",
    "fill_poly = False"
   ]
  },
  {
   "cell_type": "code",
   "execution_count": 11,
   "metadata": {},
   "outputs": [],
   "source": [
    "legend_elements = [Line2D([0], [0], color=magnet_color, lw=thickness, label='Magnet Part'),\n",
    "                       Line2D([0], [0], color=tissue_color, lw=thickness, label='Brain Part')]"
   ]
  },
  {
   "cell_type": "markdown",
   "metadata": {},
   "source": [
    "### Plot the Segmentation boxes in cropped images"
   ]
  },
  {
   "cell_type": "code",
   "execution_count": 12,
   "metadata": {
    "scrolled": false
   },
   "outputs": [
    {
     "data": {
      "text/html": [
       "<div>\n",
       "<style scoped>\n",
       "    .dataframe tbody tr th:only-of-type {\n",
       "        vertical-align: middle;\n",
       "    }\n",
       "\n",
       "    .dataframe tbody tr th {\n",
       "        vertical-align: top;\n",
       "    }\n",
       "\n",
       "    .dataframe thead tr th {\n",
       "        text-align: left;\n",
       "    }\n",
       "</style>\n",
       "<table border=\"1\" class=\"dataframe\">\n",
       "  <thead>\n",
       "    <tr>\n",
       "      <th></th>\n",
       "      <th colspan=\"2\" halign=\"left\">point_1</th>\n",
       "      <th colspan=\"2\" halign=\"left\">point_2</th>\n",
       "      <th colspan=\"2\" halign=\"left\">point_3</th>\n",
       "      <th colspan=\"2\" halign=\"left\">point_4</th>\n",
       "    </tr>\n",
       "    <tr>\n",
       "      <th></th>\n",
       "      <th>x</th>\n",
       "      <th>y</th>\n",
       "      <th>x</th>\n",
       "      <th>y</th>\n",
       "      <th>x</th>\n",
       "      <th>y</th>\n",
       "      <th>x</th>\n",
       "      <th>y</th>\n",
       "    </tr>\n",
       "  </thead>\n",
       "  <tbody>\n",
       "    <tr>\n",
       "      <th>0</th>\n",
       "      <td>36</td>\n",
       "      <td>110</td>\n",
       "      <td>16</td>\n",
       "      <td>58</td>\n",
       "      <td>142</td>\n",
       "      <td>16</td>\n",
       "      <td>148</td>\n",
       "      <td>67</td>\n",
       "    </tr>\n",
       "    <tr>\n",
       "      <th>1</th>\n",
       "      <td>40</td>\n",
       "      <td>114</td>\n",
       "      <td>16</td>\n",
       "      <td>64</td>\n",
       "      <td>141</td>\n",
       "      <td>16</td>\n",
       "      <td>150</td>\n",
       "      <td>65</td>\n",
       "    </tr>\n",
       "    <tr>\n",
       "      <th>2</th>\n",
       "      <td>38</td>\n",
       "      <td>110</td>\n",
       "      <td>16</td>\n",
       "      <td>59</td>\n",
       "      <td>143</td>\n",
       "      <td>16</td>\n",
       "      <td>149</td>\n",
       "      <td>66</td>\n",
       "    </tr>\n",
       "    <tr>\n",
       "      <th>3</th>\n",
       "      <td>45</td>\n",
       "      <td>126</td>\n",
       "      <td>16</td>\n",
       "      <td>78</td>\n",
       "      <td>132</td>\n",
       "      <td>16</td>\n",
       "      <td>147</td>\n",
       "      <td>66</td>\n",
       "    </tr>\n",
       "    <tr>\n",
       "      <th>4</th>\n",
       "      <td>44</td>\n",
       "      <td>123</td>\n",
       "      <td>16</td>\n",
       "      <td>75</td>\n",
       "      <td>136</td>\n",
       "      <td>16</td>\n",
       "      <td>148</td>\n",
       "      <td>65</td>\n",
       "    </tr>\n",
       "  </tbody>\n",
       "</table>\n",
       "</div>"
      ],
      "text/plain": [
       "  point_1      point_2     point_3     point_4    \n",
       "        x    y       x   y       x   y       x   y\n",
       "0      36  110      16  58     142  16     148  67\n",
       "1      40  114      16  64     141  16     150  65\n",
       "2      38  110      16  59     143  16     149  66\n",
       "3      45  126      16  78     132  16     147  66\n",
       "4      44  123      16  75     136  16     148  65"
      ]
     },
     "execution_count": 12,
     "metadata": {},
     "output_type": "execute_result"
    }
   ],
   "source": [
    "boxes_tissues = pd.read_csv(f\"boxes_tissues_\"+str(DATASET_NUMBER)+\".txt\", sep=\"\\t|,\", header=None, names=index, engine='python')\n",
    "#Without scale\n",
    "boxes_tissues.head()"
   ]
  },
  {
   "cell_type": "code",
   "execution_count": 13,
   "metadata": {},
   "outputs": [
    {
     "data": {
      "text/html": [
       "<div>\n",
       "<style scoped>\n",
       "    .dataframe tbody tr th:only-of-type {\n",
       "        vertical-align: middle;\n",
       "    }\n",
       "\n",
       "    .dataframe tbody tr th {\n",
       "        vertical-align: top;\n",
       "    }\n",
       "\n",
       "    .dataframe thead tr th {\n",
       "        text-align: left;\n",
       "    }\n",
       "</style>\n",
       "<table border=\"1\" class=\"dataframe\">\n",
       "  <thead>\n",
       "    <tr>\n",
       "      <th></th>\n",
       "      <th colspan=\"2\" halign=\"left\">point_1</th>\n",
       "      <th colspan=\"2\" halign=\"left\">point_2</th>\n",
       "      <th colspan=\"2\" halign=\"left\">point_3</th>\n",
       "      <th colspan=\"2\" halign=\"left\">point_4</th>\n",
       "    </tr>\n",
       "    <tr>\n",
       "      <th></th>\n",
       "      <th>x</th>\n",
       "      <th>y</th>\n",
       "      <th>x</th>\n",
       "      <th>y</th>\n",
       "      <th>x</th>\n",
       "      <th>y</th>\n",
       "      <th>x</th>\n",
       "      <th>y</th>\n",
       "    </tr>\n",
       "  </thead>\n",
       "  <tbody>\n",
       "    <tr>\n",
       "      <th>0</th>\n",
       "      <td>55</td>\n",
       "      <td>156</td>\n",
       "      <td>37</td>\n",
       "      <td>112</td>\n",
       "      <td>148</td>\n",
       "      <td>68</td>\n",
       "      <td>156</td>\n",
       "      <td>118</td>\n",
       "    </tr>\n",
       "    <tr>\n",
       "      <th>1</th>\n",
       "      <td>61</td>\n",
       "      <td>160</td>\n",
       "      <td>42</td>\n",
       "      <td>117</td>\n",
       "      <td>149</td>\n",
       "      <td>67</td>\n",
       "      <td>160</td>\n",
       "      <td>114</td>\n",
       "    </tr>\n",
       "    <tr>\n",
       "      <th>2</th>\n",
       "      <td>58</td>\n",
       "      <td>156</td>\n",
       "      <td>39</td>\n",
       "      <td>111</td>\n",
       "      <td>150</td>\n",
       "      <td>67</td>\n",
       "      <td>158</td>\n",
       "      <td>115</td>\n",
       "    </tr>\n",
       "    <tr>\n",
       "      <th>3</th>\n",
       "      <td>71</td>\n",
       "      <td>171</td>\n",
       "      <td>46</td>\n",
       "      <td>128</td>\n",
       "      <td>146</td>\n",
       "      <td>66</td>\n",
       "      <td>163</td>\n",
       "      <td>113</td>\n",
       "    </tr>\n",
       "    <tr>\n",
       "      <th>4</th>\n",
       "      <td>68</td>\n",
       "      <td>166</td>\n",
       "      <td>44</td>\n",
       "      <td>124</td>\n",
       "      <td>148</td>\n",
       "      <td>66</td>\n",
       "      <td>162</td>\n",
       "      <td>113</td>\n",
       "    </tr>\n",
       "  </tbody>\n",
       "</table>\n",
       "</div>"
      ],
      "text/plain": [
       "  point_1      point_2      point_3     point_4     \n",
       "        x    y       x    y       x   y       x    y\n",
       "0      55  156      37  112     148  68     156  118\n",
       "1      61  160      42  117     149  67     160  114\n",
       "2      58  156      39  111     150  67     158  115\n",
       "3      71  171      46  128     146  66     163  113\n",
       "4      68  166      44  124     148  66     162  113"
      ]
     },
     "execution_count": 13,
     "metadata": {},
     "output_type": "execute_result"
    }
   ],
   "source": [
    "boxes_mag = pd.read_csv(f\"boxes_mag_\"+str(DATASET_NUMBER)+\".txt\", sep=\"\\t|,\", header=None, names=index, engine='python')\n",
    "#Without scale\n",
    "boxes_mag.head()"
   ]
  },
  {
   "cell_type": "code",
   "execution_count": 14,
   "metadata": {},
   "outputs": [],
   "source": [
    "# Draw only one box\n",
    "def draw_labels_custom(image, labels_df, thickness, color, fill_poly):\n",
    "    pts = np.array(labels_df).reshape((-1,1,2))\n",
    "    if fill_poly:\n",
    "        image = cv.fillPoly(image, np.int32([pts]), color=rgb(color))\n",
    "    else:\n",
    "        image = cv.polylines(image, np.int32([pts]), True, color=rgb(color), thickness=thickness)\n",
    "\n",
    "    return image"
   ]
  },
  {
   "cell_type": "markdown",
   "metadata": {},
   "source": [
    "##### Load cropped image"
   ]
  },
  {
   "cell_type": "code",
   "execution_count": 81,
   "metadata": {
    "scrolled": true
   },
   "outputs": [
    {
     "data": {
      "text/plain": [
       "<matplotlib.image.AxesImage at 0x1b98b79a550>"
      ]
     },
     "execution_count": 81,
     "metadata": {},
     "output_type": "execute_result"
    },
    {
     "data": {
      "image/png": "[encoded data removed]",
      "text/plain": [
       "<Figure size 432x288 with 1 Axes>"
      ]
     },
     "metadata": {},
     "output_type": "display_data"
    }
   ],
   "source": [
    "index_cropped_image = 0\n",
    "\n",
    "path_cropped = \"data\"+str(DATASET_NUMBER)+\"_cropped/\"+str(index_cropped_image)+\".tiff\"\n",
    "if os.path.isfile(path_cropped):\n",
    "    cropped = cv.imread(path_cropped)\n",
    "else:\n",
    "    print (\"The file \" + path_cropped + \" does not exist.\")\n",
    "\n",
    "plt.imshow(cropped)"
   ]
  },
  {
   "cell_type": "code",
   "execution_count": 82,
   "metadata": {
    "scrolled": true
   },
   "outputs": [
    {
     "data": {
      "text/plain": [
       "<matplotlib.image.AxesImage at 0x1b98b7fb828>"
      ]
     },
     "execution_count": 82,
     "metadata": {},
     "output_type": "execute_result"
    },
    {
     "data": {
      "image/png": "[encoded data removed]",
      "text/plain": [
       "<Figure size 432x288 with 1 Axes>"
      ]
     },
     "metadata": {},
     "output_type": "display_data"
    }
   ],
   "source": [
    "seg_tissue = boxes_tissues[index_cropped_image:index_cropped_image+1]\n",
    "seg_mag = boxes_mag[index_cropped_image:index_cropped_image+1]\n",
    "\n",
    "cropped = draw_labels_custom(cropped, seg_tissue, 2, tissue_color, True)\n",
    "cropped = draw_labels_custom(cropped, seg_mag, 2, magnet_color, True)\n",
    "\n",
    "plt.imshow(cropped)"
   ]
  },
  {
   "cell_type": "code",
   "execution_count": 83,
   "metadata": {},
   "outputs": [],
   "source": [
    "def check_color(img_pixel):\n",
    "    magnet_color = [0,204,204]\n",
    "    tissue_color = [255,102,102]\n",
    "    if( (img_pixel[0] == magnet_color[0]) and (img_pixel[1] == magnet_color[1]) and (img_pixel[2] == magnet_color[2]) ):\n",
    "        return 'magnet'\n",
    "    elif( (img_pixel[0] == tissue_color[0]) and (img_pixel[1] == tissue_color[1]) and (img_pixel[2] == tissue_color[2]) ):\n",
    "        return 'tissue'\n",
    "    else:\n",
    "        return 'none'"
   ]
  },
  {
   "cell_type": "code",
   "execution_count": 84,
   "metadata": {},
   "outputs": [],
   "source": [
    "height = cropped.shape[0]\n",
    "width = cropped.shape[1]\n",
    "for i in range(height):\n",
    "    for j in range(width):\n",
    "        if( (check_color(cropped[i,j]) != 'magnet') & (check_color(cropped[i,j]) != 'tissue') ):\n",
    "            cropped[i,j] = 0"
   ]
  },
  {
   "cell_type": "code",
   "execution_count": 85,
   "metadata": {
    "scrolled": true
   },
   "outputs": [
    {
     "data": {
      "text/plain": [
       "<matplotlib.image.AxesImage at 0x1b98b85d4e0>"
      ]
     },
     "execution_count": 85,
     "metadata": {},
     "output_type": "execute_result"
    },
    {
     "data": {
      "image/png": "[encoded data removed]",
      "text/plain": [
       "<Figure size 432x288 with 1 Axes>"
      ]
     },
     "metadata": {},
     "output_type": "display_data"
    }
   ],
   "source": [
    "plt.imshow(cropped)"
   ]
  },
  {
   "cell_type": "code",
   "execution_count": 86,
   "metadata": {},
   "outputs": [
    {
     "data": {
      "text/plain": [
       "True"
      ]
     },
     "execution_count": 86,
     "metadata": {},
     "output_type": "execute_result"
    }
   ],
   "source": [
    "index_cropped_image = 0\n",
    "\n",
    "path_mask_both = \"data\"+str(DATASET_NUMBER)+\"_cropped/mask_both/\"+str(index_cropped_image)+\".tiff\"\n",
    "cv.imwrite(path_mask_both, cropped)"
   ]
  },
  {
   "cell_type": "code",
   "execution_count": 87,
   "metadata": {},
   "outputs": [],
   "source": [
    "def generate_mask(image, class_type):\n",
    "    height = image.shape[0]\n",
    "    width = image.shape[1]\n",
    "    \n",
    "    # Size of the image\n",
    "    img_mask = np.zeros([height,width],dtype=np.uint8)\n",
    "    img_mask.fill(0)\n",
    "    \n",
    "    for i in range(height):\n",
    "        for j in range(width):\n",
    "            if( (check_color(image[i,j]) != class_type)):\n",
    "                img_mask[i,j] = 0\n",
    "            else:\n",
    "                img_mask[i,j] = 255\n",
    "    \n",
    "    return img_mask"
   ]
  },
  {
   "cell_type": "code",
   "execution_count": 88,
   "metadata": {},
   "outputs": [],
   "source": [
    "mag_mask = generate_mask(cropped, 'magnet')"
   ]
  },
  {
   "cell_type": "code",
   "execution_count": 89,
   "metadata": {
    "scrolled": true
   },
   "outputs": [
    {
     "data": {
      "text/plain": [
       "True"
      ]
     },
     "execution_count": 89,
     "metadata": {},
     "output_type": "execute_result"
    },
    {
     "data": {
      "image/png": "[encoded data removed]",
      "text/plain": [
       "<Figure size 432x288 with 1 Axes>"
      ]
     },
     "metadata": {},
     "output_type": "display_data"
    }
   ],
   "source": [
    "plt.imshow(mag_mask)\n",
    "\n",
    "path_mask_both = \"data\"+str(DATASET_NUMBER)+\"_cropped/mask_mag/\"+str(index_cropped_image)+\".tiff\"\n",
    "cv.imwrite(path_mask_both, mag_mask)"
   ]
  },
  {
   "cell_type": "code",
   "execution_count": 90,
   "metadata": {},
   "outputs": [],
   "source": [
    "tissue_mask = generate_mask(cropped, 'tissue')"
   ]
  },
  {
   "cell_type": "code",
   "execution_count": 91,
   "metadata": {},
   "outputs": [
    {
     "data": {
      "text/plain": [
       "True"
      ]
     },
     "execution_count": 91,
     "metadata": {},
     "output_type": "execute_result"
    },
    {
     "data": {
      "image/png": "[encoded data removed]",
      "text/plain": [
       "<Figure size 432x288 with 1 Axes>"
      ]
     },
     "metadata": {},
     "output_type": "display_data"
    }
   ],
   "source": [
    "plt.imshow(tissue_mask)\n",
    "\n",
    "path_mask_both = \"data\"+str(DATASET_NUMBER)+\"_cropped/mask_tissue/\"+str(index_cropped_image)+\".tiff\"\n",
    "cv.imwrite(path_mask_both, tissue_mask)"
   ]
  },
  {
   "cell_type": "markdown",
   "metadata": {},
   "source": [
    "### Create masks image for the complete dataset"
   ]
  },
  {
   "cell_type": "code",
   "execution_count": 92,
   "metadata": {},
   "outputs": [],
   "source": [
    "for index_image in range(boxes_mag.shape[0]):\n",
    "    \n",
    "\n",
    "    path_cropped = \"data\"+str(DATASET_NUMBER)+\"_cropped/\"+str(index_image)+\".tiff\"\n",
    "    if os.path.isfile(path_cropped):\n",
    "        cropped = cv.imread(path_cropped)\n",
    "    else:\n",
    "        print (\"The file \" + path_cropped + \" does not exist.\")\n",
    "\n",
    "    seg_tissue = boxes_tissues[index_image:index_image+1]\n",
    "    seg_mag = boxes_mag[index_image:index_image+1]\n",
    "\n",
    "    cropped = draw_labels_custom(cropped, seg_tissue, 2, tissue_color, True)\n",
    "    cropped = draw_labels_custom(cropped, seg_mag, 2, magnet_color, True)\n",
    "    \n",
    "    height = cropped.shape[0]\n",
    "    width = cropped.shape[1]\n",
    "    for i in range(height):\n",
    "        for j in range(width):\n",
    "            if( (check_color(cropped[i,j]) != 'magnet') & (check_color(cropped[i,j]) != 'tissue') ):\n",
    "                cropped[i,j] = 0\n",
    "    \n",
    "    path_mask_both = \"data\"+str(DATASET_NUMBER)+\"_cropped/mask_both/\"+str(index_image)+\".tiff\"\n",
    "    cv.imwrite(path_mask_both, cropped)\n",
    "    \n",
    "    mag_mask = generate_mask(cropped, 'magnet')\n",
    "    path_mask_both = \"data\"+str(DATASET_NUMBER)+\"_cropped/mask_mag/\"+str(index_image)+\".tiff\"\n",
    "    cv.imwrite(path_mask_both, mag_mask)\n",
    "    \n",
    "    tissue_mask = generate_mask(cropped, 'tissue')\n",
    "    path_mask_both = \"data\"+str(DATASET_NUMBER)+\"_cropped/mask_tissue/\"+str(index_image)+\".tiff\"\n",
    "    cv.imwrite(path_mask_both, tissue_mask)\n",
    "\n"
   ]
  },
  {
   "cell_type": "code",
   "execution_count": null,
   "metadata": {},
   "outputs": [],
   "source": []
  }
 ],
 "metadata": {
  "kernelspec": {
   "display_name": "Python 3",
   "language": "python",
   "name": "python3"
  },
  "language_info": {
   "codemirror_mode": {
    "name": "ipython",
    "version": 3
   },
   "file_extension": ".py",
   "mimetype": "text/x-python",
   "name": "python",
   "nbconvert_exporter": "python",
   "pygments_lexer": "ipython3",
   "version": "3.6.5"
  }
 },
 "nbformat": 4,
 "nbformat_minor": 2
}
